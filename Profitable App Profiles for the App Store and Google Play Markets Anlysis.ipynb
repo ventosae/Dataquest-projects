{
 "cells": [
  {
   "cell_type": "markdown",
   "metadata": {},
   "source": [
    "# App Store / Google Play - Free Apps Data Analysis \n",
    "\n",
    "**About:** App store etc  \n",
    "**Goal:** Find Insights\n"
   ]
  },
  {
   "cell_type": "code",
   "execution_count": 1,
   "metadata": {
    "collapsed": true
   },
   "outputs": [],
   "source": [
    "from csv import reader \n",
    "\n",
    "def open_f(data):\n",
    "    opened = open(data, encoding='utf8')\n",
    "    readed = reader(opened)\n",
    "    return list(readed)"
   ]
  },
  {
   "cell_type": "code",
   "execution_count": 2,
   "metadata": {
    "collapsed": true
   },
   "outputs": [],
   "source": [
    "def explore_data(dataset, start, end, rows_and_columns=False):\n",
    "    dataset_slice = dataset[start:end]    \n",
    "    for row in dataset_slice:\n",
    "        print(row)\n",
    "        print('\\n') # adds a new (empty) line after each row\n",
    "\n",
    "    if rows_and_columns:\n",
    "        print('Number of rows:', len(dataset))\n",
    "        print('Number of columns:', len(dataset[0]))\n",
    "        \n",
    "        #google only\n",
    "def explore_data_column(dataset, column, rows_and_columns=False):\n",
    "    dict_f = {}\n",
    "    for row in dataset:\n",
    "        dict_f[row[0]] = row[column]\n",
    "    \n",
    "    return dict_f\n",
    "    if rows_and_columns:\n",
    "        print('Number of columns:', len(dataset[column]))\n",
    "        "
   ]
  },
  {
   "cell_type": "code",
   "execution_count": 3,
   "metadata": {
    "collapsed": false
   },
   "outputs": [],
   "source": [
    "gplay_data = open_f('googleplaystore.csv')\n",
    "astore_data = open_f('AppleStore.csv')\n",
    "\n",
    "google = gplay_data[1:]\n",
    "google_h = gplay_data[0]\n",
    "\n",
    "apple = astore_data[1:]\n",
    "apple_h = astore_data[0]"
   ]
  },
  {
   "cell_type": "code",
   "execution_count": 4,
   "metadata": {
    "collapsed": false
   },
   "outputs": [],
   "source": [
    "dup_apps = []\n",
    "orig_apps = []\n",
    " \n",
    "\n",
    "def dup_finder(data):\n",
    "    for app in data:\n",
    "        name = app[0]\n",
    "        if name in orig_apps:\n",
    "            dup_apps.append(name)\n",
    "        else:\n",
    "            orig_apps.append(name)"
   ]
  },
  {
   "cell_type": "code",
   "execution_count": 5,
   "metadata": {
    "collapsed": true
   },
   "outputs": [],
   "source": [
    "del google[10472] #del a row with a wrong rating"
   ]
  },
  {
   "cell_type": "code",
   "execution_count": 6,
   "metadata": {
    "collapsed": false
   },
   "outputs": [],
   "source": [
    "dup_finder(google)"
   ]
  },
  {
   "cell_type": "code",
   "execution_count": 7,
   "metadata": {
    "collapsed": false
   },
   "outputs": [
    {
     "name": "stdout",
     "output_type": "stream",
     "text": [
      "1181\n"
     ]
    }
   ],
   "source": [
    "print(len(dup_apps))"
   ]
  },
  {
   "cell_type": "markdown",
   "metadata": {},
   "source": [
    "### Duplication Issue with Play Store Data\n",
    "\n",
    "By reading documentation & discussions for data set we found out that the Play Store data set contains duplication. \n",
    "\n",
    "In oreder to verify it we used dup_finder function to collect these duplicates.\n"
   ]
  },
  {
   "cell_type": "code",
   "execution_count": 8,
   "metadata": {
    "collapsed": false
   },
   "outputs": [
    {
     "name": "stdout",
     "output_type": "stream",
     "text": [
      "Number of duplicates 1181\n"
     ]
    }
   ],
   "source": [
    "print('Number of duplicates',len(dup_apps))"
   ]
  },
  {
   "cell_type": "markdown",
   "metadata": {},
   "source": [
    "These duplicates won't removed randomly. The entry with the highest number of reviews will be kept since it indicates that this is the last entry others will be removed.\n",
    "\n",
    "For these two loops were created - one is looping through the Google Play data set and leaving duplicated entries with highest number of reviews. Another adds only unique entries based on the number of reviews & name. "
   ]
  },
  {
   "cell_type": "code",
   "execution_count": 9,
   "metadata": {
    "collapsed": false
   },
   "outputs": [],
   "source": [
    "google_appname_rev = {}\n",
    "\n",
    "for i in google:\n",
    "    name = i[0]\n",
    "    reviews = float(i[3])\n",
    "    \n",
    "    if name in google_appname_rev and google_appname_rev[name] < reviews:\n",
    "        google_appname_rev[name] = reviews \n",
    "    \n",
    "    elif name not in google_appname_rev:\n",
    "        google_appname_rev[name] = reviews "
   ]
  },
  {
   "cell_type": "code",
   "execution_count": 10,
   "metadata": {
    "collapsed": false,
    "scrolled": false
   },
   "outputs": [],
   "source": [
    "google_clean = []\n",
    "already_added = []\n",
    "\n",
    "for i in google:\n",
    "    name = i[0]\n",
    "    reviews = float(i[3])\n",
    "    \n",
    "    if reviews == google_appname_rev[name] and name not in already_added:\n",
    "        google_clean.append(i)\n",
    "        already_added.append(name)\n"
   ]
  },
  {
   "cell_type": "code",
   "execution_count": 11,
   "metadata": {
    "collapsed": false
   },
   "outputs": [
    {
     "name": "stdout",
     "output_type": "stream",
     "text": [
      "New Length: 9659\n"
     ]
    }
   ],
   "source": [
    "print('New Length:',len(google_clean)) #clean data set "
   ]
  },
  {
   "cell_type": "code",
   "execution_count": 12,
   "metadata": {
    "collapsed": false
   },
   "outputs": [],
   "source": [
    "def eng_check(stri):\n",
    "    err = 0\n",
    "    for i in stri:\n",
    "        if ord(i) > 127:\n",
    "            err += 1\n",
    "            if err == 4:\n",
    "                return False\n",
    "        "
   ]
  },
  {
   "cell_type": "code",
   "execution_count": 13,
   "metadata": {
    "collapsed": true
   },
   "outputs": [],
   "source": [
    "google_clean_eng = []\n",
    "google_noneng = []\n",
    "apple_clean_eng = []\n",
    "apple_noneng = []\n",
    "\n",
    "for i in google_clean:\n",
    "    name = i[0]\n",
    "    if eng_check(name) == False:\n",
    "        google_noneng.append(i)\n",
    "    else:\n",
    "        google_clean_eng.append(i)\n",
    "        \n",
    "for i in apple:\n",
    "    name = i[1]\n",
    "    if eng_check(name) == False:\n",
    "        apple_noneng.append(i)\n",
    "    else:\n",
    "        apple_clean_eng.append(i)"
   ]
  },
  {
   "cell_type": "code",
   "execution_count": 14,
   "metadata": {
    "collapsed": false
   },
   "outputs": [
    {
     "name": "stdout",
     "output_type": "stream",
     "text": [
      "Google Non-Eng Apps 45\n",
      "Google Eng Apps 9614\n",
      "Apple Non-Eng Apps 1014\n",
      "Apple Eng Apps 6183\n"
     ]
    }
   ],
   "source": [
    "print('Google Non-Eng Apps',len(google_noneng))\n",
    "print('Google Eng Apps',len(google_clean_eng))\n",
    "print('Apple Non-Eng Apps',len(apple_noneng))\n",
    "print('Apple Eng Apps',len(apple_clean_eng))"
   ]
  },
  {
   "cell_type": "markdown",
   "metadata": {},
   "source": [
    "### Isolating Free Apps"
   ]
  },
  {
   "cell_type": "code",
   "execution_count": 15,
   "metadata": {
    "collapsed": false
   },
   "outputs": [],
   "source": [
    "def free_apps_finder(data, list_to_add, app_store = False):\n",
    "    \n",
    "    column = 7\n",
    "    \n",
    "    if app_store == True:\n",
    "        column = 4\n",
    "    \n",
    "    for i in data:\n",
    "        price_raw = i[column]\n",
    "        if \"$\" in i[column]:\n",
    "            price = float(price_raw[1:])\n",
    "        else:\n",
    "            price = float(price_raw)\n",
    "            \n",
    "        if price == 0:\n",
    "            list_to_add.append(i)"
   ]
  },
  {
   "cell_type": "code",
   "execution_count": 16,
   "metadata": {
    "collapsed": false
   },
   "outputs": [],
   "source": [
    "#isolation free apps\n",
    "\n",
    "google_free_apps = []\n",
    "apple_free_apps = []\n",
    "\n",
    "free_apps_finder(google_clean_eng,google_free_apps)\n",
    "free_apps_finder(apple_clean_eng,apple_free_apps,True)\n"
   ]
  },
  {
   "cell_type": "code",
   "execution_count": 17,
   "metadata": {
    "collapsed": false
   },
   "outputs": [
    {
     "name": "stdout",
     "output_type": "stream",
     "text": [
      "Number of Free Apps on Google Play 8864\n",
      "Number of Free Apps on Apple Store 3222\n"
     ]
    }
   ],
   "source": [
    "print(\"Number of Free Apps on Google Play\",len(google_free_apps))\n",
    "print(\"Number of Free Apps on Apple Store\",len(apple_free_apps))"
   ]
  },
  {
   "cell_type": "markdown",
   "metadata": {},
   "source": [
    "# Finding an app profie\n",
    "\n",
    "Since our goal is to build a free app for both sotores we want to find a case which would works as an example/role model.\n",
    "\n",
    "We will start by analysing Generes to find the best one for the upcoming app."
   ]
  },
  {
   "cell_type": "code",
   "execution_count": 18,
   "metadata": {
    "collapsed": true
   },
   "outputs": [],
   "source": [
    "def freq_table(dataset, index):\n",
    "    counter = {}\n",
    "    counterpr = {}\n",
    "    for i in dataset:\n",
    "        ind = i[index]\n",
    "        if ind in counter:\n",
    "            counter[ind] += 1\n",
    "        else:\n",
    "            counter[ind] = 1            \n",
    "    for i in counter:\n",
    "        counterpr[i] = round((counter[i] / len(dataset)*100),2)\n",
    "        \n",
    "    return counterpr\n",
    "            "
   ]
  },
  {
   "cell_type": "code",
   "execution_count": 19,
   "metadata": {
    "collapsed": true
   },
   "outputs": [],
   "source": [
    "def display_table(dataset, index):\n",
    "    table = freq_table(dataset, index)\n",
    "    table_display = []\n",
    "    for key in table:\n",
    "        key_val_as_tuple = (table[key], key)\n",
    "        table_display.append(key_val_as_tuple)\n",
    "\n",
    "    table_sorted = sorted(table_display, reverse = True)\n",
    "    for entry in table_sorted:\n",
    "        print(entry[1], ':', entry[0])"
   ]
  },
  {
   "cell_type": "markdown",
   "metadata": {},
   "source": [
    "#### Freq. Table For Play Store Categories"
   ]
  },
  {
   "cell_type": "code",
   "execution_count": 20,
   "metadata": {
    "collapsed": false
   },
   "outputs": [
    {
     "name": "stdout",
     "output_type": "stream",
     "text": [
      "FAMILY : 18.91\n",
      "GAME : 9.72\n",
      "TOOLS : 8.46\n",
      "BUSINESS : 4.59\n",
      "LIFESTYLE : 3.9\n",
      "PRODUCTIVITY : 3.89\n",
      "FINANCE : 3.7\n",
      "MEDICAL : 3.53\n",
      "SPORTS : 3.4\n",
      "PERSONALIZATION : 3.32\n",
      "COMMUNICATION : 3.24\n",
      "HEALTH_AND_FITNESS : 3.08\n",
      "PHOTOGRAPHY : 2.94\n",
      "NEWS_AND_MAGAZINES : 2.8\n",
      "SOCIAL : 2.66\n",
      "TRAVEL_AND_LOCAL : 2.34\n",
      "SHOPPING : 2.25\n",
      "BOOKS_AND_REFERENCE : 2.14\n",
      "DATING : 1.86\n",
      "VIDEO_PLAYERS : 1.79\n",
      "MAPS_AND_NAVIGATION : 1.4\n",
      "FOOD_AND_DRINK : 1.24\n",
      "EDUCATION : 1.16\n",
      "ENTERTAINMENT : 0.96\n",
      "LIBRARIES_AND_DEMO : 0.94\n",
      "AUTO_AND_VEHICLES : 0.93\n",
      "HOUSE_AND_HOME : 0.82\n",
      "WEATHER : 0.8\n",
      "EVENTS : 0.71\n",
      "PARENTING : 0.65\n",
      "ART_AND_DESIGN : 0.64\n",
      "COMICS : 0.62\n",
      "BEAUTY : 0.6\n"
     ]
    }
   ],
   "source": [
    "display_table(google_free_apps,1)"
   ]
  },
  {
   "cell_type": "markdown",
   "metadata": {},
   "source": [
    "#### Freq. Table For Play Store Genres"
   ]
  },
  {
   "cell_type": "code",
   "execution_count": 21,
   "metadata": {
    "collapsed": false
   },
   "outputs": [
    {
     "name": "stdout",
     "output_type": "stream",
     "text": [
      "Tools : 8.45\n",
      "Entertainment : 6.07\n",
      "Education : 5.35\n",
      "Business : 4.59\n",
      "Productivity : 3.89\n",
      "Lifestyle : 3.89\n",
      "Finance : 3.7\n",
      "Medical : 3.53\n",
      "Sports : 3.46\n",
      "Personalization : 3.32\n",
      "Communication : 3.24\n",
      "Action : 3.1\n",
      "Health & Fitness : 3.08\n",
      "Photography : 2.94\n",
      "News & Magazines : 2.8\n",
      "Social : 2.66\n",
      "Travel & Local : 2.32\n",
      "Shopping : 2.25\n",
      "Books & Reference : 2.14\n",
      "Simulation : 2.04\n",
      "Dating : 1.86\n",
      "Arcade : 1.85\n",
      "Video Players & Editors : 1.77\n",
      "Casual : 1.76\n",
      "Maps & Navigation : 1.4\n",
      "Food & Drink : 1.24\n",
      "Puzzle : 1.13\n",
      "Racing : 0.99\n",
      "Role Playing : 0.94\n",
      "Libraries & Demo : 0.94\n",
      "Auto & Vehicles : 0.93\n",
      "Strategy : 0.91\n",
      "House & Home : 0.82\n",
      "Weather : 0.8\n",
      "Events : 0.71\n",
      "Adventure : 0.68\n",
      "Comics : 0.61\n",
      "Beauty : 0.6\n",
      "Art & Design : 0.6\n",
      "Parenting : 0.5\n",
      "Card : 0.45\n",
      "Casino : 0.43\n",
      "Trivia : 0.42\n",
      "Educational;Education : 0.39\n",
      "Board : 0.38\n",
      "Educational : 0.37\n",
      "Education;Education : 0.34\n",
      "Word : 0.26\n",
      "Casual;Pretend Play : 0.24\n",
      "Music : 0.2\n",
      "Racing;Action & Adventure : 0.17\n",
      "Puzzle;Brain Games : 0.17\n",
      "Entertainment;Music & Video : 0.17\n",
      "Casual;Brain Games : 0.14\n",
      "Casual;Action & Adventure : 0.14\n",
      "Arcade;Action & Adventure : 0.12\n",
      "Action;Action & Adventure : 0.1\n",
      "Educational;Pretend Play : 0.09\n",
      "Simulation;Action & Adventure : 0.08\n",
      "Parenting;Education : 0.08\n",
      "Entertainment;Brain Games : 0.08\n",
      "Board;Brain Games : 0.08\n",
      "Parenting;Music & Video : 0.07\n",
      "Educational;Brain Games : 0.07\n",
      "Casual;Creativity : 0.07\n",
      "Art & Design;Creativity : 0.07\n",
      "Education;Pretend Play : 0.06\n",
      "Role Playing;Pretend Play : 0.05\n",
      "Education;Creativity : 0.05\n",
      "Role Playing;Action & Adventure : 0.03\n",
      "Puzzle;Action & Adventure : 0.03\n",
      "Entertainment;Creativity : 0.03\n",
      "Entertainment;Action & Adventure : 0.03\n",
      "Educational;Creativity : 0.03\n",
      "Educational;Action & Adventure : 0.03\n",
      "Education;Music & Video : 0.03\n",
      "Education;Brain Games : 0.03\n",
      "Education;Action & Adventure : 0.03\n",
      "Adventure;Action & Adventure : 0.03\n",
      "Video Players & Editors;Music & Video : 0.02\n",
      "Sports;Action & Adventure : 0.02\n",
      "Simulation;Pretend Play : 0.02\n",
      "Puzzle;Creativity : 0.02\n",
      "Music;Music & Video : 0.02\n",
      "Entertainment;Pretend Play : 0.02\n",
      "Casual;Education : 0.02\n",
      "Board;Action & Adventure : 0.02\n",
      "Video Players & Editors;Creativity : 0.01\n",
      "Trivia;Education : 0.01\n",
      "Travel & Local;Action & Adventure : 0.01\n",
      "Tools;Education : 0.01\n",
      "Strategy;Education : 0.01\n",
      "Strategy;Creativity : 0.01\n",
      "Strategy;Action & Adventure : 0.01\n",
      "Simulation;Education : 0.01\n",
      "Role Playing;Brain Games : 0.01\n",
      "Racing;Pretend Play : 0.01\n",
      "Puzzle;Education : 0.01\n",
      "Parenting;Brain Games : 0.01\n",
      "Music & Audio;Music & Video : 0.01\n",
      "Lifestyle;Pretend Play : 0.01\n",
      "Lifestyle;Education : 0.01\n",
      "Health & Fitness;Education : 0.01\n",
      "Health & Fitness;Action & Adventure : 0.01\n",
      "Entertainment;Education : 0.01\n",
      "Communication;Creativity : 0.01\n",
      "Comics;Creativity : 0.01\n",
      "Casual;Music & Video : 0.01\n",
      "Card;Action & Adventure : 0.01\n",
      "Books & Reference;Education : 0.01\n",
      "Art & Design;Pretend Play : 0.01\n",
      "Art & Design;Action & Adventure : 0.01\n",
      "Arcade;Pretend Play : 0.01\n",
      "Adventure;Education : 0.01\n"
     ]
    }
   ],
   "source": [
    "display_table(google_free_apps,-4)"
   ]
  },
  {
   "cell_type": "markdown",
   "metadata": {},
   "source": [
    "#### Freq. Table For App Store Prime Genres"
   ]
  },
  {
   "cell_type": "code",
   "execution_count": 22,
   "metadata": {
    "collapsed": false
   },
   "outputs": [
    {
     "name": "stdout",
     "output_type": "stream",
     "text": [
      "Games : 58.16\n",
      "Entertainment : 7.88\n",
      "Photo & Video : 4.97\n",
      "Education : 3.66\n",
      "Social Networking : 3.29\n",
      "Shopping : 2.61\n",
      "Utilities : 2.51\n",
      "Sports : 2.14\n",
      "Music : 2.05\n",
      "Health & Fitness : 2.02\n",
      "Productivity : 1.74\n",
      "Lifestyle : 1.58\n",
      "News : 1.33\n",
      "Travel : 1.24\n",
      "Finance : 1.12\n",
      "Weather : 0.87\n",
      "Food & Drink : 0.81\n",
      "Reference : 0.56\n",
      "Business : 0.53\n",
      "Book : 0.43\n",
      "Navigation : 0.19\n",
      "Medical : 0.19\n",
      "Catalogs : 0.12\n"
     ]
    }
   ],
   "source": [
    "display_table(apple_free_apps,-5)"
   ]
  },
  {
   "cell_type": "markdown",
   "metadata": {},
   "source": [
    "### Isolating Most Popular Genres by Install/Reviews\n",
    "\n",
    "By analyzing a number of the reviews we can get an understanding of competition in the certain Genere. \n",
    "\n",
    "From analyzing numbers below its clear that 'Navigation', 'Reference' & 'Social Networking' are most competitive genres with 86090, 74942, 71548 reviews per app on average. \n",
    "\n",
    "Health & Fitness might be a good category for a new app since it has an average market share (2.02%)  and a decent number of reviews (23298).\n",
    "\n",
    "##### App Store:"
   ]
  },
  {
   "cell_type": "code",
   "execution_count": 23,
   "metadata": {
    "collapsed": false
   },
   "outputs": [
    {
     "name": "stdout",
     "output_type": "stream",
     "text": [
      "App Genre - Photo & Video - Revs - 28442\n",
      "App Genre - Travel - Revs - 28244\n",
      "App Genre - Food & Drink - Revs - 33334\n",
      "App Genre - Business - Revs - 7491\n",
      "App Genre - Social Networking - Revs - 71548\n",
      "App Genre - Navigation - Revs - 86090\n",
      "App Genre - Shopping - Revs - 26920\n",
      "App Genre - News - Revs - 21248\n",
      "App Genre - Reference - Revs - 74942\n",
      "App Genre - Sports - Revs - 23009\n",
      "App Genre - Book - Revs - 39758\n",
      "App Genre - Weather - Revs - 52280\n",
      "App Genre - Utilities - Revs - 18684\n",
      "App Genre - Medical - Revs - 612\n",
      "App Genre - Music - Revs - 57327\n",
      "App Genre - Education - Revs - 7004\n",
      "App Genre - Finance - Revs - 31468\n",
      "App Genre - Catalogs - Revs - 4004\n",
      "App Genre - Games - Revs - 22789\n",
      "App Genre - Lifestyle - Revs - 16486\n",
      "App Genre - Entertainment - Revs - 14030\n",
      "App Genre - Health & Fitness - Revs - 23298\n",
      "App Genre - Productivity - Revs - 21028\n"
     ]
    }
   ],
   "source": [
    "apple_genre_table = freq_table(apple_free_apps,-5)\n",
    "apple_installs_table = {}\n",
    "\n",
    "for genre in apple_genre_table:\n",
    "    total = 0\n",
    "    len_genre = 0 \n",
    "    for i in apple_free_apps:\n",
    "        genre_app = i[-5]\n",
    "        if genre_app == genre:\n",
    "            n_r = float(i[5])\n",
    "            total += n_r\n",
    "            len_genre += 1\n",
    "    avgres = round(total / len_genre)\n",
    "    print('App Genre -',genre,'- Revs -', avgres)\n",
    "#     print('App Genre - ',genre,'\\nAvg. App Reviews',avgnumb,'\\n')    "
   ]
  },
  {
   "cell_type": "markdown",
   "metadata": {},
   "source": [
    "##### Play Store:\n",
    "\n",
    "From analyzing numbers below its clear that 'COMMUNICATION', 'VIDEO_PLAYERS' & 'SOCIAL' are most competitive genres with 38456119, 24727872, 23253652 installs per app on average.\n",
    "\n",
    "PRODUCTIVITY might be a good category for a new app since it has an average market share (3.89%) and a decent number of reviews (16787331)."
   ]
  },
  {
   "cell_type": "code",
   "execution_count": 34,
   "metadata": {
    "collapsed": false
   },
   "outputs": [
    {
     "name": "stdout",
     "output_type": "stream",
     "text": [
      "MEDICAL 120551\n",
      "SOCIAL 23253652\n",
      "HEALTH_AND_FITNESS 4188822\n",
      "FOOD_AND_DRINK 1924898\n",
      "BOOKS_AND_REFERENCE 8767812\n",
      "BEAUTY 513152\n",
      "BUSINESS 1712290\n",
      "TRAVEL_AND_LOCAL 13984078\n",
      "EVENTS 253542\n",
      "EDUCATION 1833495\n",
      "HOUSE_AND_HOME 1331541\n",
      "PHOTOGRAPHY 17840110\n",
      "FINANCE 1387692\n",
      "SPORTS 3638640\n",
      "PRODUCTIVITY 16787331\n",
      "TOOLS 10801391\n",
      "VIDEO_PLAYERS 24727872\n",
      "MAPS_AND_NAVIGATION 4056942\n",
      "PARENTING 542604\n",
      "WEATHER 5074486\n",
      "LIBRARIES_AND_DEMO 638504\n",
      "LIFESTYLE 1437816\n",
      "ART_AND_DESIGN 1986335\n",
      "FAMILY 3695642\n",
      "PERSONALIZATION 5201483\n",
      "COMMUNICATION 38456119\n",
      "COMICS 817657\n",
      "NEWS_AND_MAGAZINES 9549178\n",
      "GAME 15588016\n",
      "ENTERTAINMENT 11640706\n",
      "AUTO_AND_VEHICLES 647318\n",
      "SHOPPING 7036877\n",
      "DATING 854029\n"
     ]
    }
   ],
   "source": [
    "google_genrecat_table = freq_table(google_free_apps,1)\n",
    "\n",
    "for category in google_genrecat_table:\n",
    "    total = 0\n",
    "    len_cat = 0\n",
    "    for i in google_free_apps:\n",
    "        cat_app = i[1]\n",
    "        if cat_app == category:\n",
    "            installs = float(i[5].replace('+','').replace(',', ''))\n",
    "            total += installs\n",
    "            len_cat += 1\n",
    "                \n",
    "    avginst = round(total / len_cat)\n",
    "    print(category, avginst)\n",
    "                "
   ]
  },
  {
   "cell_type": "code",
   "execution_count": null,
   "metadata": {
    "collapsed": true
   },
   "outputs": [],
   "source": []
  }
 ],
 "metadata": {
  "kernelspec": {
   "display_name": "Python 3",
   "language": "python",
   "name": "python3"
  },
  "language_info": {
   "codemirror_mode": {
    "name": "ipython",
    "version": 3
   },
   "file_extension": ".py",
   "mimetype": "text/x-python",
   "name": "python",
   "nbconvert_exporter": "python",
   "pygments_lexer": "ipython3",
   "version": "3.4.3"
  }
 },
 "nbformat": 4,
 "nbformat_minor": 2
}
